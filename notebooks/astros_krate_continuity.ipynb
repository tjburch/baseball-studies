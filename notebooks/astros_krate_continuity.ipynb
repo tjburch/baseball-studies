{
 "cells": [
  {
   "cell_type": "markdown",
   "metadata": {},
   "source": [
    "### Background:\n",
    "\n",
    "Following the Astros sign stealing fiasco, I saw this reddit thread: https://www.reddit.com/r/baseball/comments/dw9wnd/the_astros_home_k_dropped_from_244_in_2016_to_166/\n",
    "\n",
    "It showed the home K% dropped from 24.4% in 2016 to 16.6% in 2017, a 31.8% decrease. However this doesn't take into account change in staff between these years. So I wanted to take a look at the K% change for _just_ the players on both teams"
   ]
  },
  {
   "cell_type": "code",
   "execution_count": 1,
   "metadata": {},
   "outputs": [],
   "source": [
    "import pandas as pd\n",
    "pd.set_option(\"display.max_columns\", 101)\n",
    "import numpy as np\n",
    "import matplotlib.pyplot as plt\n",
    "from pybaseball import league_batting_stats\n",
    "from bs4 import BeautifulSoup\n",
    "import requests"
   ]
  },
  {
   "cell_type": "markdown",
   "metadata": {},
   "source": [
    "Get 2016 and 2017 stats"
   ]
  },
  {
   "cell_type": "code",
   "execution_count": 2,
   "metadata": {},
   "outputs": [],
   "source": [
    "df2016 = league_batting_stats.batting_stats_bref(2016)\n",
    "astros2016 = df2016.query(\"Tm=='Houston'\")\n",
    "df2017 = league_batting_stats.batting_stats_bref(2017)\n",
    "astros2017 = df2017.query(\"Tm=='Houston'\")"
   ]
  },
  {
   "cell_type": "markdown",
   "metadata": {},
   "source": [
    "Do an inner merge on player names, keeping only players present in both years"
   ]
  },
  {
   "cell_type": "code",
   "execution_count": 3,
   "metadata": {},
   "outputs": [],
   "source": [
    "mixed_df = astros2016.merge(astros2017, how='inner', on='Name', suffixes=('2016','2017'))"
   ]
  },
  {
   "cell_type": "code",
   "execution_count": 4,
   "metadata": {},
   "outputs": [
    {
     "data": {
      "text/plain": [
       "array(['Jose Altuve', 'Alex Bregman', 'Carlos Correa', 'Evan Gattis',\n",
       "       'Marwin Gonzalez', 'Yuli Gurriel', 'Tony Kemp', 'Dallas Keuchel',\n",
       "       'Jake Marisnick', 'Lance McCullers Jr.', 'Collin McHugh',\n",
       "       'Colin Moran', 'Joe Musgrove', 'AJ Reed', 'George Springer',\n",
       "       'Max Stassi', 'Tyler White'], dtype=object)"
      ]
     },
     "execution_count": 4,
     "metadata": {},
     "output_type": "execute_result"
    }
   ],
   "source": [
    "mixed_df[\"Name\"].values"
   ]
  },
  {
   "cell_type": "markdown",
   "metadata": {},
   "source": [
    "Looks right, now take the K rate for 2016 and 2017, find the difference"
   ]
  },
  {
   "cell_type": "code",
   "execution_count": 5,
   "metadata": {},
   "outputs": [
    {
     "name": "stdout",
     "output_type": "stream",
     "text": [
      "2016 K%: 21.19\n",
      "2017 K%: 16.95\n",
      "year-over-year change: -4.23\n"
     ]
    }
   ],
   "source": [
    "krate2016 = (mixed_df[\"SO2016\"].sum() / mixed_df[\"PA2016\"].sum())*100\n",
    "krate2017 = (mixed_df[\"SO2017\"].sum() / mixed_df[\"PA2017\"].sum())*100\n",
    "dkrate = krate2017 - krate2016\n",
    "print(\"2016 K%: {0:.2f}\".format(krate2016))\n",
    "print(\"2017 K%: {0:.2f}\".format(krate2017))\n",
    "print(\"year-over-year change: {0:.2f}\".format(dkrate))"
   ]
  },
  {
   "cell_type": "markdown",
   "metadata": {},
   "source": [
    "### However, this is home and away - need to just do home, which will require some scraping"
   ]
  },
  {
   "cell_type": "code",
   "execution_count": 6,
   "metadata": {},
   "outputs": [],
   "source": [
    "from pybaseball import playerid_lookup"
   ]
  },
  {
   "cell_type": "code",
   "execution_count": 7,
   "metadata": {},
   "outputs": [
    {
     "name": "stdout",
     "output_type": "stream",
     "text": [
      "Getting player: Jose Altuve\n",
      "Gathering player lookup table. This may take a moment.\n",
      "Getting player: Alex Bregman\n",
      "Gathering player lookup table. This may take a moment.\n",
      "Getting player: Carlos Correa\n",
      "Gathering player lookup table. This may take a moment.\n",
      "Getting player: Evan Gattis\n",
      "Gathering player lookup table. This may take a moment.\n",
      "Getting player: Marwin Gonzalez\n",
      "Gathering player lookup table. This may take a moment.\n",
      "Getting player: Yuli Gurriel\n",
      "Gathering player lookup table. This may take a moment.\n",
      "Getting player: Tony Kemp\n",
      "Gathering player lookup table. This may take a moment.\n",
      "Getting player: Dallas Keuchel\n",
      "Gathering player lookup table. This may take a moment.\n",
      "Getting player: Jake Marisnick\n",
      "Gathering player lookup table. This may take a moment.\n",
      "Getting player: Lance McCullers Jr.\n",
      "Gathering player lookup table. This may take a moment.\n",
      "Getting player: Collin McHugh\n",
      "Gathering player lookup table. This may take a moment.\n",
      "Getting player: Colin Moran\n",
      "Gathering player lookup table. This may take a moment.\n",
      "Getting player: Joe Musgrove\n",
      "Gathering player lookup table. This may take a moment.\n",
      "Getting player: AJ Reed\n",
      "Gathering player lookup table. This may take a moment.\n",
      "Getting player: George Springer\n",
      "Gathering player lookup table. This may take a moment.\n",
      "Getting player: Max Stassi\n",
      "Gathering player lookup table. This may take a moment.\n",
      "Getting player: Tyler White\n",
      "Gathering player lookup table. This may take a moment.\n"
     ]
    }
   ],
   "source": [
    "player_keys = {}\n",
    "for player in mixed_df[\"Name\"].values:\n",
    "    print(\"Getting player: {0}\".format(player))\n",
    "\n",
    "    # Annoying exception\n",
    "    if player == \"AJ Reed\": \n",
    "        first = \"A. J.\"\n",
    "        last = \"Reed\"\n",
    "        player_keys[\"AJ Reed\"] = playerid_lookup(last, first).dropna().iloc[-1][\"key_fangraphs\"]        \n",
    "    else:\n",
    "        player_keys[player] = playerid_lookup(player.split(\" \")[1], player.split(\" \")[0]).dropna().iloc[-1][\"key_fangraphs\"]"
   ]
  },
  {
   "cell_type": "markdown",
   "metadata": {},
   "source": [
    "URL requires position as well, so put those in by hand. Additionally with this being the AL, prune pitchers"
   ]
  },
  {
   "cell_type": "code",
   "execution_count": 8,
   "metadata": {},
   "outputs": [],
   "source": [
    "# Hand prune pitchers\n",
    "player_pos = {\n",
    "'Jose Altuve': \"2B\",\n",
    " 'Alex Bregman': \"3B\",\n",
    " 'Carlos Correa': \"SS\",\n",
    " 'Evan Gattis': \"C/DH\",\n",
    " 'Marwin Gonzalez': \"SS\",\n",
    " 'Yuli Gurriel': \"1B\",\n",
    " 'Tony Kemp': \"OF\",\n",
    " #'Dallas Keuchel': \"P\",\n",
    " 'Jake Marisnick': \"OF\",\n",
    " #'Lance McCullers Jr.': \"P\",\n",
    " #'Collin McHugh': \"P\",\n",
    " 'Colin Moran': \"3B\",\n",
    " #'Joe Musgrove': \"P\",\n",
    " 'AJ Reed': \"1B/DH\",\n",
    " 'George Springer': \"OF\",\n",
    " 'Max Stassi': \"C\",\n",
    " 'Tyler White': \"1B\"\n",
    "}"
   ]
  },
  {
   "cell_type": "markdown",
   "metadata": {},
   "source": [
    "Scrape Fangraphs"
   ]
  },
  {
   "cell_type": "code",
   "execution_count": 9,
   "metadata": {},
   "outputs": [],
   "source": [
    "home_splits = {}\n",
    "for key in player_pos:\n",
    "    play_split = 'https://www.fangraphs.com/statsplits.aspx?playerid={0}&position={1}&season=0&split=1.1'.format(player_keys[key], player_pos[key])\n",
    "    page = requests.get(play_split)\n",
    "    soup = BeautifulSoup(page.text, 'html.parser')\n",
    "    found = soup.find('table',{'class':'rgMasterTable', 'id':'SeasonSplits1_dgSeason1_ctl00'})\n",
    "    player_df=pd.read_html(str(found))[0]\n",
    "    home_splits[key]  = player_df.drop(player_df.tail(1).index)"
   ]
  },
  {
   "cell_type": "markdown",
   "metadata": {},
   "source": [
    "Math out the total PA and K values for consistent players"
   ]
  },
  {
   "cell_type": "code",
   "execution_count": 10,
   "metadata": {},
   "outputs": [],
   "source": [
    "total2016_pa, total2017_pa = 0,0\n",
    "total2016_k, total2017_k = 0,0\n",
    "for player,df in home_splits.items():\n",
    "    d2016 = df[df[\"Season\"] == \"2016\"]\n",
    "    total2016_k += d2016.iloc[0][\"SO\"]\n",
    "    total2016_pa += d2016.iloc[0][\"PA\"]\n",
    "    \n",
    "    d2017 = df[df[\"Season\"] == \"2017\"]\n",
    "    if not player == \"Colin Moran\":\n",
    "        total2017_k += d2017.iloc[0][\"SO\"]\n",
    "        total2017_pa += d2017.iloc[0][\"PA\"]\n"
   ]
  },
  {
   "cell_type": "code",
   "execution_count": 11,
   "metadata": {},
   "outputs": [],
   "source": [
    "krate2017 = (total2017_k/total2017_pa) * 100\n",
    "krate2016 = (total2016_k/total2016_pa) * 100"
   ]
  },
  {
   "cell_type": "code",
   "execution_count": 16,
   "metadata": {},
   "outputs": [
    {
     "name": "stdout",
     "output_type": "stream",
     "text": [
      "2016 K%: 22.17\n",
      "2017 K%: 16.46\n",
      "year-over-year change: -5.71%\n",
      "percent change: -25.75%\n"
     ]
    }
   ],
   "source": [
    "print(\"2016 K%: {0:.2f}\".format(krate2016))\n",
    "print(\"2017 K%: {0:.2f}\".format(krate2017))\n",
    "print(\"year-over-year change: {0:.2f}%\".format(krate2017-krate2016))\n",
    "print(\"percent change: {0:.2f}%\".format(100*(krate2017-krate2016)/krate2016))"
   ]
  },
  {
   "cell_type": "code",
   "execution_count": 13,
   "metadata": {},
   "outputs": [
    {
     "name": "stdout",
     "output_type": "stream",
     "text": [
      "Full list of position players from both 2016+2017:\n",
      "Jose Altuve\n",
      "Alex Bregman\n",
      "Carlos Correa\n",
      "Evan Gattis\n",
      "Marwin Gonzalez\n",
      "Yuli Gurriel\n",
      "Tony Kemp\n",
      "Jake Marisnick\n",
      "Colin Moran\n",
      "AJ Reed\n",
      "George Springer\n",
      "Max Stassi\n",
      "Tyler White\n"
     ]
    }
   ],
   "source": [
    "print(\"Full list of position players from both 2016+2017:\")\n",
    "for player in player_pos.keys():\n",
    "    print(player)"
   ]
  }
 ],
 "metadata": {
  "kernelspec": {
   "display_name": "py3baseball",
   "language": "python",
   "name": "py3baseball"
  },
  "language_info": {
   "codemirror_mode": {
    "name": "ipython",
    "version": 3
   },
   "file_extension": ".py",
   "mimetype": "text/x-python",
   "name": "python",
   "nbconvert_exporter": "python",
   "pygments_lexer": "ipython3",
   "version": "3.7.3"
  }
 },
 "nbformat": 4,
 "nbformat_minor": 4
}
